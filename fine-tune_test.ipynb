{
 "cells": [
  {
   "cell_type": "markdown",
   "metadata": {},
   "source": [
    "## Load pre-trained LlaMa 3 model"
   ]
  },
  {
   "cell_type": "code",
   "execution_count": null,
   "metadata": {},
   "outputs": [
    {
     "name": "stderr",
     "output_type": "stream",
     "text": [
      "Loading checkpoint shards: 100%|██████████| 4/4 [04:30<00:00, 67.69s/it]\n",
      "c:\\Users\\dirke\\anaconda3\\envs\\llama-env\\lib\\site-packages\\transformers\\models\\auto\\tokenization_auto.py:809: FutureWarning: The `use_auth_token` argument is deprecated and will be removed in v5 of Transformers. Please use `token` instead.\n",
      "  warnings.warn(\n"
     ]
    }
   ],
   "source": [
    "from transformers import AutoTokenizer, AutoModelForCausalLM\n",
    "\n",
    "import os\n",
    "\n",
    "# Get the current working directory (your repository)\n",
    "repo_dir = os.getcwd()\n",
    "\n",
    "# Specify the custom cache directory\n",
    "cache_dir = os.path.join(repo_dir, \"models\")\n",
    "\n",
    "# Get the token from an environment variable\n",
    "token = os.environ.get(\"HF_TOKEN\")\n",
    "\n",
    "# Check if the token is set\n",
    "if token is None:\n",
    "    raise ValueError(\"HF_TOKEN environment variable is not set\")\n",
    "\n",
    "model_name = \"meta-llama/Llama-3.1-8B\"\n",
    "\n",
    "model = AutoModelForCausalLM.from_pretrained(model_name, use_auth_token=token)\n",
    "tokenizer = AutoTokenizer.from_pretrained(model_name, use_auth_token=token)"
   ]
  },
  {
   "cell_type": "code",
   "execution_count": null,
   "metadata": {},
   "outputs": [],
   "source": []
  }
 ],
 "metadata": {
  "kernelspec": {
   "display_name": "llama-env",
   "language": "python",
   "name": "python3"
  },
  "language_info": {
   "codemirror_mode": {
    "name": "ipython",
    "version": 3
   },
   "file_extension": ".py",
   "mimetype": "text/x-python",
   "name": "python",
   "nbconvert_exporter": "python",
   "pygments_lexer": "ipython3",
   "version": "3.8.20"
  }
 },
 "nbformat": 4,
 "nbformat_minor": 2
}
